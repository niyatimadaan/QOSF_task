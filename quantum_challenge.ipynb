{
 "cells": [
  {
   "cell_type": "code",
   "execution_count": 1,
   "metadata": {
    "id": "SHdsiNsuLSiO"
   },
   "outputs": [],
   "source": [
    "import qiskit\n",
    "from qiskit import *\n",
    "from qiskit.transpiler.preset_passmanagers import generate_preset_pass_manager\n",
    "from qiskit_aer import AerSimulator, StatevectorSimulator\n",
    "from qiskit_aer.quantum_info import AerStatevector, AerDensityMatrix\n",
    "from qiskit_ibm_runtime import Session\n",
    "from qiskit.primitives import StatevectorSampler\n",
    "from qiskit.visualization import plot_histogram\n",
    "from qiskit.circuit.library import MCMT, CZGate, GroverOperator"
   ]
  },
  {
   "cell_type": "code",
   "execution_count": 2,
   "metadata": {
    "id": "TIiexk6gtp4r"
   },
   "outputs": [],
   "source": [
    "def encode_winner(circuit, num, bits):\n",
    "  for i in range(bits):\n",
    "    if not num & (1 << i):\n",
    "      circuit.x(i)\n",
    "\n",
    "  circuit.append(MCMT(CZGate(), bits-1, 1), range(bits))\n",
    "\n",
    "  for i in range(bits):\n",
    "    if not num & (1 << i):\n",
    "      circuit.x(i)\n",
    "\n",
    "\n",
    "def make_oracle(list_n, k, bits=5):\n",
    "  oracle = QuantumCircuit(bits)\n",
    "  oracle.h(range(bits))\n",
    "\n",
    "  for i in range(len(list_n)):\n",
    "    if list_n[i] < k:\n",
    "      encode_winner(oracle, i, bits)\n",
    "\n",
    "  return oracle\n",
    "\n",
    "def make_grover(oracle, bits=5):\n",
    "  grover = GroverOperator(oracle)\n",
    "  grover.measure_all()\n",
    "  return grover\n",
    "\n",
    "def run_circuit(circuit):\n",
    "  sim = StatevectorSimulator()\n",
    "  circuit = qiskit.transpile(circuit, sim)\n",
    "  counts = sim.run(circuit, shots=1000).result().get_counts()\n",
    "  return counts\n"
   ]
  },
  {
   "cell_type": "code",
   "execution_count": 3,
   "metadata": {
    "colab": {
     "base_uri": "https://localhost:8080/"
    },
    "id": "j6w2oGGfwQqS",
    "outputId": "13d7731b-0650-4dc6-fcaf-6a62e9b1a534"
   },
   "outputs": [
    {
     "name": "stdout",
     "output_type": "stream",
     "text": [
      "[6, 4, 1]\n"
     ]
    }
   ],
   "source": [
    "NUM_QBITS=5\n",
    "\n",
    "def less_than_k(k, list_n):\n",
    "  oracle = make_oracle(list_n, k, NUM_QBITS)\n",
    "  circuit = make_grover(oracle)\n",
    "  result = run_circuit(circuit).int_outcomes()\n",
    "  solution = [list_n[x] for x in result if result[x] > 100]\n",
    "  return solution\n",
    "\n",
    "list_n = [4,9,11,14,1,13,6,15]\n",
    "k = 7\n",
    "print(less_than_k(k, list_n))"
   ]
  },
  {
   "cell_type": "markdown",
   "metadata": {
    "id": "y-Io86wY7mJg"
   },
   "source": [
    "## **Circuit Diagrams**"
   ]
  },
  {
   "cell_type": "code",
   "execution_count": 4,
   "metadata": {
    "colab": {
     "base_uri": "https://localhost:8080/",
     "height": 186
    },
    "id": "OMl6FNDt7oDs",
    "outputId": "f1e2ef77-138a-47cf-d6ad-6bebb29a02b1"
   },
   "outputs": [
    {
     "data": {
      "text/html": [
       "<pre style=\"word-wrap: normal;white-space: pre;background: #fff0;line-height: 1.1;font-family: &quot;Courier New&quot;,Courier,monospace\">     ┌───┐┌───┐┌───────┐┌───┐┌───┐┌───────┐┌───┐┌───┐┌───────┐┌───┐\n",
       "q_0: ┤ H ├┤ X ├┤0      ├┤ X ├┤ X ├┤0      ├┤ X ├┤ X ├┤0      ├┤ X ├\n",
       "     ├───┤├───┤│       │├───┤├───┤│       │├───┤└───┘│       │└───┘\n",
       "q_1: ┤ H ├┤ X ├┤1      ├┤ X ├┤ X ├┤1      ├┤ X ├─────┤1      ├─────\n",
       "     ├───┤├───┤│       │├───┤└───┘│       │└───┘     │       │     \n",
       "q_2: ┤ H ├┤ X ├┤2 mcmt ├┤ X ├─────┤2 mcmt ├──────────┤2 mcmt ├─────\n",
       "     ├───┤├───┤│       │├───┤┌───┐│       │┌───┐┌───┐│       │┌───┐\n",
       "q_3: ┤ H ├┤ X ├┤3      ├┤ X ├┤ X ├┤3      ├┤ X ├┤ X ├┤3      ├┤ X ├\n",
       "     ├───┤├───┤│       │├───┤├───┤│       │├───┤├───┤│       │├───┤\n",
       "q_4: ┤ H ├┤ X ├┤4      ├┤ X ├┤ X ├┤4      ├┤ X ├┤ X ├┤4      ├┤ X ├\n",
       "     └───┘└───┘└───────┘└───┘└───┘└───────┘└───┘└───┘└───────┘└───┘</pre>"
      ],
      "text/plain": [
       "     ┌───┐┌───┐┌───────┐┌───┐┌───┐┌───────┐┌───┐┌───┐┌───────┐┌───┐\n",
       "q_0: ┤ H ├┤ X ├┤0      ├┤ X ├┤ X ├┤0      ├┤ X ├┤ X ├┤0      ├┤ X ├\n",
       "     ├───┤├───┤│       │├───┤├───┤│       │├───┤└───┘│       │└───┘\n",
       "q_1: ┤ H ├┤ X ├┤1      ├┤ X ├┤ X ├┤1      ├┤ X ├─────┤1      ├─────\n",
       "     ├───┤├───┤│       │├───┤└───┘│       │└───┘     │       │     \n",
       "q_2: ┤ H ├┤ X ├┤2 mcmt ├┤ X ├─────┤2 mcmt ├──────────┤2 mcmt ├─────\n",
       "     ├───┤├───┤│       │├───┤┌───┐│       │┌───┐┌───┐│       │┌───┐\n",
       "q_3: ┤ H ├┤ X ├┤3      ├┤ X ├┤ X ├┤3      ├┤ X ├┤ X ├┤3      ├┤ X ├\n",
       "     ├───┤├───┤│       │├───┤├───┤│       │├───┤├───┤│       │├───┤\n",
       "q_4: ┤ H ├┤ X ├┤4      ├┤ X ├┤ X ├┤4      ├┤ X ├┤ X ├┤4      ├┤ X ├\n",
       "     └───┘└───┘└───────┘└───┘└───┘└───────┘└───┘└───┘└───────┘└───┘"
      ]
     },
     "execution_count": 4,
     "metadata": {},
     "output_type": "execute_result"
    }
   ],
   "source": [
    "oracle = make_oracle(list_n, k, NUM_QBITS)\n",
    "oracle.draw()"
   ]
  },
  {
   "cell_type": "code",
   "execution_count": 5,
   "metadata": {
    "colab": {
     "base_uri": "https://localhost:8080/",
     "height": 217
    },
    "id": "XL9t3FPj8Fvj",
    "outputId": "540b5859-d16c-42ae-abf1-fb0486debe8d"
   },
   "outputs": [
    {
     "data": {
      "text/html": [
       "<pre style=\"word-wrap: normal;white-space: pre;background: #fff0;line-height: 1.1;font-family: &quot;Courier New&quot;,Courier,monospace\">         ┌────┐ ░ ┌─┐            \n",
       "state_0: ┤0   ├─░─┤M├────────────\n",
       "         │    │ ░ └╥┘┌─┐         \n",
       "state_1: ┤1   ├─░──╫─┤M├─────────\n",
       "         │    │ ░  ║ └╥┘┌─┐      \n",
       "state_2: ┤2 Q ├─░──╫──╫─┤M├──────\n",
       "         │    │ ░  ║  ║ └╥┘┌─┐   \n",
       "state_3: ┤3   ├─░──╫──╫──╫─┤M├───\n",
       "         │    │ ░  ║  ║  ║ └╥┘┌─┐\n",
       "state_4: ┤4   ├─░──╫──╫──╫──╫─┤M├\n",
       "         └────┘ ░  ║  ║  ║  ║ └╥┘\n",
       " meas: 5/══════════╩══╩══╩══╩══╩═\n",
       "                   0  1  2  3  4 </pre>"
      ],
      "text/plain": [
       "         ┌────┐ ░ ┌─┐            \n",
       "state_0: ┤0   ├─░─┤M├────────────\n",
       "         │    │ ░ └╥┘┌─┐         \n",
       "state_1: ┤1   ├─░──╫─┤M├─────────\n",
       "         │    │ ░  ║ └╥┘┌─┐      \n",
       "state_2: ┤2 Q ├─░──╫──╫─┤M├──────\n",
       "         │    │ ░  ║  ║ └╥┘┌─┐   \n",
       "state_3: ┤3   ├─░──╫──╫──╫─┤M├───\n",
       "         │    │ ░  ║  ║  ║ └╥┘┌─┐\n",
       "state_4: ┤4   ├─░──╫──╫──╫──╫─┤M├\n",
       "         └────┘ ░  ║  ║  ║  ║ └╥┘\n",
       " meas: 5/══════════╩══╩══╩══╩══╩═\n",
       "                   0  1  2  3  4 "
      ]
     },
     "execution_count": 5,
     "metadata": {},
     "output_type": "execute_result"
    }
   ],
   "source": [
    "circuit = make_grover(oracle)\n",
    "circuit.draw()"
   ]
  },
  {
   "cell_type": "code",
   "execution_count": null,
   "metadata": {
    "id": "uwgmaRF18NYk"
   },
   "outputs": [],
   "source": []
  }
 ],
 "metadata": {
  "colab": {
   "provenance": []
  },
  "kernelspec": {
   "display_name": "Python 3 (ipykernel)",
   "language": "python",
   "name": "python3"
  },
  "language_info": {
   "codemirror_mode": {
    "name": "ipython",
    "version": 3
   },
   "file_extension": ".py",
   "mimetype": "text/x-python",
   "name": "python",
   "nbconvert_exporter": "python",
   "pygments_lexer": "ipython3",
   "version": "3.9.7"
  }
 },
 "nbformat": 4,
 "nbformat_minor": 1
}
